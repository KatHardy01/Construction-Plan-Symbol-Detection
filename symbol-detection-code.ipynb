{
 "cells": [
  {
   "cell_type": "code",
   "execution_count": 71,
   "id": "4dcf03b6",
   "metadata": {},
   "outputs": [],
   "source": [
    "import fitz  # PyMuPDF\n",
    "import cv2\n",
    "import numpy as np\n",
    "from PIL import Image, ImageDraw\n",
    "import io"
   ]
  },
  {
   "cell_type": "code",
   "execution_count": 72,
   "id": "64d0be71",
   "metadata": {},
   "outputs": [
    {
     "name": "stderr",
     "output_type": "stream",
     "text": [
      "<>:2: SyntaxWarning: invalid escape sequence '\\C'\n",
      "<>:3: SyntaxWarning: invalid escape sequence '\\s'\n",
      "<>:4: SyntaxWarning: invalid escape sequence '\\C'\n",
      "<>:2: SyntaxWarning: invalid escape sequence '\\C'\n",
      "<>:3: SyntaxWarning: invalid escape sequence '\\s'\n",
      "<>:4: SyntaxWarning: invalid escape sequence '\\C'\n",
      "C:\\Users\\KaitlynHardy\\AppData\\Local\\Temp\\ipykernel_12660\\3950573398.py:2: SyntaxWarning: invalid escape sequence '\\C'\n",
      "  PDF_FILE = \"Plans\\C1.01.pdf\"     # Your construction plan PDF\n",
      "C:\\Users\\KaitlynHardy\\AppData\\Local\\Temp\\ipykernel_12660\\3950573398.py:3: SyntaxWarning: invalid escape sequence '\\s'\n",
      "  SYMBOL_IMAGE = \"Symbols\\sign-symbol.png\"          # The dot symbol image\n",
      "C:\\Users\\KaitlynHardy\\AppData\\Local\\Temp\\ipykernel_12660\\3950573398.py:4: SyntaxWarning: invalid escape sequence '\\C'\n",
      "  OUTPUT_PDF = \"Annotated-Plans\\C1.01_annotated.pdf\"  # Output file name\n"
     ]
    }
   ],
   "source": [
    "# === INPUT FILES ===\n",
    "PDF_FILE = \"Plans\\C1.01.pdf\"     # Your construction plan PDF\n",
    "SYMBOL_IMAGE = \"Symbols\\sign-symbol.png\"          # The dot symbol image\n",
    "OUTPUT_PDF = \"Annotated-Plans\\C1.01_annotated.pdf\"  # Output file name\n",
    "threshold = 0.75                   # Lowered to improve symbol detection\n",
    "dpi = 600                   # DPI for the output PDF"
   ]
  },
  {
   "cell_type": "code",
   "execution_count": null,
   "id": "b5276d24",
   "metadata": {},
   "outputs": [],
   "source": [
    "# === Load symbol template ===\n",
    "symbol_img = cv2.imread(symbol_path, cv2.IMREAD_GRAYSCALE)\n",
    "symbol_img = cv2.resize(symbol_img, (15, 15), interpolation=cv2.INTER_AREA)\n",
    "symbol_w, symbol_h = symbol_img.shape[::-1]\n",
    "\n",
    "# === Open PDF ===\n",
    "doc = fitz.open(PDF_FILE)\n",
    "annotated_images = []\n",
    "\n",
    "# === High-res matrix ===\n",
    "zoom = dpi / 72\n",
    "mat = fitz.Matrix(zoom, zoom)\n",
    "\n",
    "# Increase the decompression bomb limit (use with caution)\n",
    "from PIL import Image as PILImage\n",
    "PILImage.MAX_IMAGE_PIXELS = None\n",
    "\n",
    "# === Process each page ===\n",
    "for page_num, page in enumerate(doc):\n",
    "    pix = page.get_pixmap(matrix=mat)\n",
    "    img_bytes = pix.tobytes(\"ppm\")\n",
    "\n",
    "    # Convert pixmap to OpenCV image\n",
    "    pil_image = Image.open(io.BytesIO(img_bytes)).convert(\"RGB\")\n",
    "    cv_image = cv2.cvtColor(np.array(pil_image), cv2.COLOR_RGB2BGR)\n",
    "    gray = cv2.cvtColor(cv_image, cv2.COLOR_BGR2GRAY)\n",
    "\n",
    "    annotated = pil_image.copy()\n",
    "    draw = ImageDraw.Draw(annotated)\n",
    "\n",
    "    # Try multiple rotations\n",
    "    for angle in range(0, 360, 30):\n",
    "        M = cv2.getRotationMatrix2D((symbol_w/2, symbol_h/2), angle, 1)\n",
    "        rotated_symbol = cv2.warpAffine(symbol_img, M, (symbol_w, symbol_h))\n",
    "\n",
    "        res = cv2.matchTemplate(gray, rotated_symbol, cv2.TM_CCOEFF_NORMED)\n",
    "        loc = np.where(res >= threshold)\n",
    "\n",
    "        for pt in zip(*loc[::-1]):\n",
    "            center_x = pt[0] + symbol_w // 2\n",
    "            center_y = pt[1] + symbol_h // 2\n",
    "            radius = int(max(symbol_w, symbol_h) / 2)\n",
    "            draw.ellipse(\n",
    "                (center_x - radius, center_y - radius,\n",
    "                 center_x + radius, center_y + radius),\n",
    "                outline=\"red\", width=5\n",
    "            )\n",
    "\n",
    "    annotated_images.append(annotated)\n",
    "\n"
   ]
  },
  {
   "cell_type": "code",
   "execution_count": 74,
   "id": "c2f2bfa6",
   "metadata": {},
   "outputs": [
    {
     "name": "stdout",
     "output_type": "stream",
     "text": [
      "✅ Annotated PDF saved as: Annotated-Plans\\C1.01_annotated.pdf\n"
     ]
    }
   ],
   "source": [
    "# === Create final high-res PDF ===\n",
    "out_doc = fitz.open()\n",
    "for img in annotated_images:\n",
    "    # Save PIL image to a bytes buffer as PNG\n",
    "    img_buffer = io.BytesIO()\n",
    "    img.save(img_buffer, format=\"PNG\")\n",
    "    img_buffer.seek(0)\n",
    "    # Create Pixmap from PNG bytes\n",
    "    pix = fitz.Pixmap(img_buffer)\n",
    "    rect = fitz.Rect(0, 0, pix.width, pix.height)\n",
    "    page = out_doc.new_page(width=pix.width, height=pix.height)\n",
    "    page.insert_image(rect, pixmap=pix)\n",
    "\n",
    "out_doc.save(OUTPUT_PDF)\n",
    "print(f\"✅ Annotated PDF saved as: {OUTPUT_PDF}\")"
   ]
  }
 ],
 "metadata": {
  "kernelspec": {
   "display_name": "my_env",
   "language": "python",
   "name": "python3"
  },
  "language_info": {
   "codemirror_mode": {
    "name": "ipython",
    "version": 3
   },
   "file_extension": ".py",
   "mimetype": "text/x-python",
   "name": "python",
   "nbconvert_exporter": "python",
   "pygments_lexer": "ipython3",
   "version": "3.13.1"
  }
 },
 "nbformat": 4,
 "nbformat_minor": 5
}
